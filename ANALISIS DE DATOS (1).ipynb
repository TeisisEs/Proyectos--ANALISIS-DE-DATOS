{
 "cells": [
  {
   "cell_type": "markdown",
   "id": "3256a1bc-f994-47a1-b73f-e8ac39220a30",
   "metadata": {},
   "source": [
    "# PROYECTO: ANÁLISIS DEL REGIMEN DE EXCEPCION EN  LA EXPECTATIVA DE VIDA EN EL SALVADOR"
   ]
  },
  {
   "cell_type": "markdown",
   "id": "7147315a-3beb-4faf-9ad9-67231f1faedb",
   "metadata": {},
   "source": [
    "## ¿Que es la esperanza de vida de un pais?"
   ]
  },
  {
   "cell_type": "markdown",
   "id": "93d3fd80-3f72-4d5a-a7d0-668ec68ef0c5",
   "metadata": {},
   "source": [
    "La esperanza de vida es un indicador demográfico que estima el promedio de años que una persona podría vivir, partiendo de las condiciones actuales de mortalidad en una población específica. Este indicador se calcula considerando factores como la tasa de mortalidad en diferentes grupos de edad y refleja las condiciones generales de salud, desarrollo socioeconómico y acceso a servicios básicos, como atención médica y saneamiento. Es una medida clave para evaluar la calidad de vida y el bienestar en una sociedad, así como para comparar el progreso entre distintos países o regiones.\n"
   ]
  },
  {
   "cell_type": "markdown",
   "id": "225bb03b-83be-489f-b95c-6c203de95655",
   "metadata": {},
   "source": [
    "## Esperanza de vida en El Salvador panorama General"
   ]
  },
  {
   "cell_type": "markdown",
   "id": "23ce9180-b184-4240-aa90-725318fc7325",
   "metadata": {},
   "source": [
    "En 2022 la esperanza de vida en El Salvador subió hasta llegar a 71,48 años.\r\n",
    "\r\n",
    "Ese año la esperanza de vida de las mujeres fue de 75,81 años, mayor que la de los hombres que fue de 66,84 años.\r\n",
    "\r\n",
    "El Salvador ha empeorado su situación respecto a los 194 países de los que publicamos la Esperanza de vida y ha pasado de ocupar el puesto 107 en 2021 al 109 en 2022. Esto quiere decir que es un país con una baja esperanza de vida respecto al resto de los países del mundo.\r\n",
    "\r\n",
    "Si miramos la evolución de la Esperanza de Vida en El Salvador en los últimos años, vemos que ha subido respecto a 2021 en el que fue de 70,75 años, al contrario de lo que ocurre respecto a 2012, en el que estaba en 71,83 años."
   ]
  },
  {
   "cell_type": "markdown",
   "id": "6c21ea8b-925c-42d4-a463-e083f925564c",
   "metadata": {},
   "source": [
    "*Fuente Consultada\n",
    "Expansión. (s.f.). Esperanza de vida en El Salvador. Datosmacro. https://datosmacro.expansion.com/demografia/esperanza-vida/el-salvador#:~:text=Ese%20a%C3%B1o%20la%20esperanza%20de,2021%20al%20109%20en%202022.*\n",
    "\n"
   ]
  },
  {
   "cell_type": "markdown",
   "id": "9732a5a4-ec6f-45af-9f00-e1c0a6cc7a91",
   "metadata": {},
   "source": [
    "*data Adriana*\n",
    "https://datosmacro.expansion.com/demografia/mortalidad/el-salvador#:~:text=La%20tasa%20de%20mortalidad%20en%202022%20en%20El%20Salvador%20ha,muertes%20por%20cada%20mil%20habitantes"
   ]
  },
  {
   "cell_type": "code",
   "execution_count": 34,
   "id": "647bd2d2-50d0-4dd6-9281-c650aca4f662",
   "metadata": {},
   "outputs": [
    {
     "name": "stdout",
     "output_type": "stream",
     "text": [
      "Se encontraron 1 tablas.\n",
      "    Fecha  Número de Homicidios  Homicidios Mujeres  Homicidios Hombres  \\\n",
      "0    2022               496.000                71.0             425.000   \n",
      "1    2021                 1.085               133.0             944.000   \n",
      "2    2020                 1.341               131.0               1.186   \n",
      "3    2019                 2.398               230.0               2.127   \n",
      "4    2018                 3.346               386.0               2.941   \n",
      "5    2017                 3.962               469.0               3.474   \n",
      "6    2016                 5.276               524.0               4.752   \n",
      "7    2015                 6.656               575.0               6.081   \n",
      "8    2014                 3.921               294.0               3.627   \n",
      "9    2013                 2.513               217.0               2.296   \n",
      "10   2012                 2.594               322.0               2.272   \n",
      "11   2011                 4.371               628.0               3.743   \n",
      "12   2010                 3.987               562.0               3.425   \n",
      "13   2009                 4.382               592.0               3.790   \n",
      "14   2008                 3.179               317.0               2.862   \n",
      "15   2007                 3.497               340.0               3.157   \n",
      "16   2006                 3.927               447.0               3.480   \n",
      "17   2005                 3.882               398.0               3.484   \n",
      "18   2004                 3.897                 NaN                 NaN   \n",
      "19   2003                 3.356                 NaN                 NaN   \n",
      "20   2002                 2.835                 NaN                 NaN   \n",
      "21   2001                 3.590                 NaN                 NaN   \n",
      "22   2000                 3.551                 NaN                 NaN   \n",
      "23   1999                 3.845                 NaN                 NaN   \n",
      "24   1998                 5.584                 NaN                 NaN   \n",
      "25   1997                 6.573                 NaN                 NaN   \n",
      "26   1996                 6.792                 NaN                 NaN   \n",
      "27   1995                 7.977                 NaN                 NaN   \n",
      "28   1994                 7.673                 NaN                 NaN   \n",
      "\n",
      "    Homicidios Mujeres por familiares  Homicidios hombres por familiares  \\\n",
      "0                                 4.0                                2.0   \n",
      "1                                21.0                                2.0   \n",
      "2                                23.0                               11.0   \n",
      "3                                18.0                               10.0   \n",
      "4                                42.0                               19.0   \n",
      "5                                19.0                               11.0   \n",
      "6                                11.0                                7.0   \n",
      "7                                17.0                                2.0   \n",
      "8                                 9.0                                4.0   \n",
      "9                                18.0                                1.0   \n",
      "10                               13.0                                8.0   \n",
      "11                                1.0                                NaN   \n",
      "12                                2.0                                1.0   \n",
      "13                               14.0                                6.0   \n",
      "14                                2.0                                1.0   \n",
      "15                                1.0                                NaN   \n",
      "16                                NaN                                NaN   \n",
      "17                                NaN                                NaN   \n",
      "18                                NaN                                NaN   \n",
      "19                                NaN                                NaN   \n",
      "20                                NaN                                NaN   \n",
      "21                                NaN                                NaN   \n",
      "22                                NaN                                NaN   \n",
      "23                                NaN                                NaN   \n",
      "24                                NaN                                NaN   \n",
      "25                                NaN                                NaN   \n",
      "26                                NaN                                NaN   \n",
      "27                                NaN                                NaN   \n",
      "28                                NaN                                NaN   \n",
      "\n",
      "    Homicidios por 100.000  \n",
      "0                      790  \n",
      "1                     1734  \n",
      "2                     2151  \n",
      "3                     3854  \n",
      "4                     5380  \n",
      "5                     6376  \n",
      "6                     8509  \n",
      "7                    10764  \n",
      "8                     6362  \n",
      "9                     4094  \n",
      "10                    4243  \n",
      "11                    7177  \n",
      "12                    6570  \n",
      "13                    7245  \n",
      "14                    5273  \n",
      "15                    5819  \n",
      "16                    6542  \n",
      "17                    6464  \n",
      "18                    6490  \n",
      "19                    5595  \n",
      "20                    4736  \n",
      "21                    6015  \n",
      "22                    5975  \n",
      "23                    6502  \n",
      "24                    9495  \n",
      "25                   11246  \n",
      "26                   11700  \n",
      "27                   13844  \n",
      "28                   13428  \n"
     ]
    }
   ],
   "source": [
    "import pandas as pd\n",
    "\n",
    "# URL del sitio web\n",
    "url = \"https://datosmacro.expansion.com/demografia/homicidios/el-salvador#:~:text=Disminuye%20el%20n%C3%BAmero%20de%20homicidios%20en%20El%20Salvador&text=En%20El%20Salvador%2C%20de%20media,que%20fue%20del%2017%2C34.\"\n",
    "\n",
    "# Extraer las tablas de la página web\n",
    "tablas = pd.read_html(url)\n",
    "\n",
    "# Verificar cuántas tablas se encontraron\n",
    "print(f\"Se encontraron {len(tablas)} tablas.\")\n",
    "\n",
    "# Ver la primera tabla\n",
    "tabla = tablas[0]\n",
    "print(tabla)\n",
    "\n"
   ]
  },
  {
   "cell_type": "code",
   "execution_count": null,
   "id": "817139b5-5caf-4607-a170-f6dc1e019a4c",
   "metadata": {},
   "outputs": [],
   "source": []
  }
 ],
 "metadata": {
  "kernelspec": {
   "display_name": "Python 3 (ipykernel)",
   "language": "python",
   "name": "python3"
  },
  "language_info": {
   "codemirror_mode": {
    "name": "ipython",
    "version": 3
   },
   "file_extension": ".py",
   "mimetype": "text/x-python",
   "name": "python",
   "nbconvert_exporter": "python",
   "pygments_lexer": "ipython3",
   "version": "3.12.4"
  }
 },
 "nbformat": 4,
 "nbformat_minor": 5
}
